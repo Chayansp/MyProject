{
  "nbformat": 4,
  "nbformat_minor": 0,
  "metadata": {
    "colab": {
      "provenance": [],
      "authorship_tag": "ABX9TyPCvALpuBUp8iv7rMspoUT/",
      "include_colab_link": true
    },
    "kernelspec": {
      "name": "python3",
      "display_name": "Python 3"
    },
    "language_info": {
      "name": "python"
    }
  },
  "cells": [
    {
      "cell_type": "markdown",
      "metadata": {
        "id": "view-in-github",
        "colab_type": "text"
      },
      "source": [
        "<a href=\"https://colab.research.google.com/github/Chayansp/MyProject/blob/main/Exploring_NYC_Public_School_Test_Result_Scores.ipynb\" target=\"_parent\"><img src=\"https://colab.research.google.com/assets/colab-badge.svg\" alt=\"Open In Colab\"/></a>"
      ]
    },
    {
      "cell_type": "code",
      "execution_count": null,
      "metadata": {
        "colab": {
          "base_uri": "https://localhost:8080/"
        },
        "id": "2wm9DrO35Mo0",
        "outputId": "bafeb769-e1c6-44d0-f4ef-bfc68178ddee"
      },
      "outputs": [
        {
          "output_type": "stream",
          "name": "stdout",
          "text": [
            "           num_schools  average_SAT  std_SAT\n",
            "borough                                     \n",
            "Manhattan           89      1340.13   230.29\n"
          ]
        }
      ],
      "source": [
        "# Re-run this cell\n",
        "import pandas as pd\n",
        "\n",
        "# Read in the data\n",
        "schools = pd.read_csv(\"schools.csv\")\n",
        "\n",
        "# Preview the data\n",
        "schools.head()\n",
        "\n",
        "# Start coding here...\n",
        "\n",
        "# Which schools are best for math?\n",
        "best_math_schools = schools[schools[\"average_math\"] >= 640][[\"school_name\", \"average_math\"]].sort_values(\"average_math\", ascending=False)\n",
        "\n",
        "# Calculate total_SAT per school\n",
        "schools[\"total_SAT\"] = schools[\"average_math\"] + schools[\"average_reading\"] + schools[\"average_writing\"]\n",
        "\n",
        "# Who are the top 10 performing schools?\n",
        "top_10_schools = schools.groupby(\"school_name\", as_index=False)[\"total_SAT\"].mean().sort_values(\"total_SAT\", ascending=False).head(10)\n",
        "\n",
        "# Which NYC borough has the highest standard deviation for total_SAT?\n",
        "boroughs = schools.groupby(\"borough\")[\"total_SAT\"].agg([\"count\", \"mean\", \"std\"]).round(2)\n",
        "\n",
        "# Filter for max std and reset index so borough is a column\n",
        "largest_std_dev = boroughs[boroughs[\"std\"] == boroughs[\"std\"].max()]\n",
        "\n",
        "# Rename the columns for clarity\n",
        "largest_std_dev = largest_std_dev.rename(columns={\"count\": \"num_schools\", \"mean\": \"average_SAT\", \"std\": \"std_SAT\"})\n",
        "print(largest_std_dev)"
      ]
    }
  ]
}